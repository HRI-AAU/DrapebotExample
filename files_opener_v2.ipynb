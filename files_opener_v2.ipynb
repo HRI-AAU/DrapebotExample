{
  "metadata": {
    "kernelspec": {
      "name": "python",
      "display_name": "Python (Pyodide)",
      "language": "python"
    },
    "language_info": {
      "codemirror_mode": {
        "name": "python",
        "version": 3
      },
      "file_extension": ".py",
      "mimetype": "text/x-python",
      "name": "python",
      "nbconvert_exporter": "python",
      "pygments_lexer": "ipython3",
      "version": "3.8"
    }
  },
  "nbformat_minor": 4,
  "nbformat": 4,
  "cells": [
    {
      "cell_type": "code",
      "source": "import pandas as pd\nimport glob",
      "metadata": {},
      "execution_count": 1,
      "outputs": []
    },
    {
      "cell_type": "code",
      "source": "trust_scores = pd.read_excel(r\"**PATH_OF_DATA**\\TrustScores.xlsx\") #read the trustscores",
      "metadata": {},
      "execution_count": null,
      "outputs": []
    },
    {
      "cell_type": "code",
      "source": "paths_draping = glob.glob(r\"**PATH_OF_DATA**\\draping\\*\") #List of all available items(paths) inside the folder of draping\npaths_transport = glob.glob(r\"**PATH_OF_DATA**\\transport\\*\") #List of all available items(paths) inside the folder of transport",
      "metadata": {},
      "execution_count": null,
      "outputs": []
    },
    {
      "cell_type": "code",
      "source": "df_final_draping = pd.DataFrame() #Empty pandas dataframe\nfor i in paths_draping:\n  i_temp = str(i)\n  participant_nr = i_temp[-9:-7] #Isolating the number of the participant from the file that is being read\n  print(participant_nr) #Prints the number of the participant read from the path of the file\n  df_acceleration = pd.read_excel(i, sheet_name=\"Segment Acceleration\") #Read only the acceleration sheet\n  df_final_draping = pd.concat([df_final_draping, df_acceleration], axis=0, ignore_index=True) #Concatenation of all available data into a single pandas data frame\n\ndf_final_transport = pd.DataFrame()\nfor i in paths_transport:\n  i_temp = str(i)\n  participant_nr = i_temp[-9:-7]\n  print(participant_nr)\n  df_acceleration = pd.read_excel(i, sheet_name=\"Segment Acceleration\")\n  df_final_transport = pd.concat(df_final_transport, df_acceleration], axis=0, ignore_index=True)",
      "metadata": {},
      "execution_count": null,
      "outputs": []
    }
  ]
}